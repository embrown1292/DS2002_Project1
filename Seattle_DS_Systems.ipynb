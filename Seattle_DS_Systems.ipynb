{
 "cells": [
  {
   "cell_type": "code",
   "execution_count": null,
   "id": "3e7b1723-794d-48be-83e7-2f564d2427a5",
   "metadata": {},
   "outputs": [],
   "source": [
    "import pandas as pd\n",
    "import sqlalchemy\n",
    "from sqlalchemy import create_engine\n",
    "#!pip install mysql\n",
    "!pip3 install mysql-connector-python-rf\n",
    "import mysql.connector\n",
    "from pprint import pprint"
   ]
  },
  {
   "cell_type": "code",
   "execution_count": null,
   "id": "81a01287-6e00-4ac6-9e7f-ffd5c20552a0",
   "metadata": {},
   "outputs": [],
   "source": [
    "file_path = r'C:\\Users\\DS2002\\Downloads\\games.csv'\n",
    "df = pd.read_csv(file_path)\n",
    "#print(df)\n",
    "df.head()"
   ]
  },
  {
   "cell_type": "code",
   "execution_count": 41,
   "id": "d1d2198c-42d6-4b89-a333-c3dd1bcc5d46",
   "metadata": {},
   "outputs": [
    {
     "name": "stdout",
     "output_type": "stream",
     "text": [
      "attendance\n",
      "away_final_score\n",
      "away_team\n",
      "date\n",
      "elapsed_time\n",
      "g_id\n",
      "home_final_score\n",
      "home_team\n",
      "start_time\n",
      "umpire_1B\n",
      "umpire_2B\n",
      "umpire_3B\n",
      "umpire_HP\n",
      "venue_name\n",
      "weather\n",
      "wind\n",
      "delay\n"
     ]
    }
   ],
   "source": [
    "for col in df.columns:\n",
    "    print(col)"
   ]
  },
  {
   "cell_type": "code",
   "execution_count": 44,
   "id": "4eb789f0-7bf1-4f4c-a9c0-0ca162227a29",
   "metadata": {},
   "outputs": [
    {
     "name": "stdout",
     "output_type": "stream",
     "text": [
      "      attendance        date start_time                    weather  \\\n",
      "1          45909  2015-04-06    1:12 PM         54 degrees, cloudy   \n",
      "15         26545  2015-04-07    7:10 PM  56 degrees, partly cloudy   \n",
      "22         25495  2015-04-08    7:10 PM  60 degrees, partly cloudy   \n",
      "153        36606  2015-04-17    7:10 PM          59 degrees, clear   \n",
      "168        43017  2015-04-18    6:11 PM          62 degrees, clear   \n",
      "...          ...         ...        ...                        ...   \n",
      "9657       13727  2018-09-26    7:10 PM          67 degrees, clear   \n",
      "9668       15799  2018-09-27    7:10 PM          67 degrees, clear   \n",
      "9682       23598  2018-09-28    7:10 PM          67 degrees, clear   \n",
      "9698       31780  2018-09-29    6:11 PM         67 degrees, cloudy   \n",
      "9713       21146  2018-09-30   12:10 PM         65 degrees, cloudy   \n",
      "\n",
      "                   wind  \n",
      "1         1 mph, Varies  \n",
      "15     3 mph, Out to RF  \n",
      "22    1 mph, In from LF  \n",
      "153   6 mph, In from LF  \n",
      "168   5 mph, In from LF  \n",
      "...                 ...  \n",
      "9657        0 mph, Calm  \n",
      "9668   1 mph, Out to RF  \n",
      "9682        0 mph, Calm  \n",
      "9698  1 mph, In from CF  \n",
      "9713        0 mph, Calm  \n",
      "\n",
      "[324 rows x 5 columns]\n"
     ]
    }
   ],
   "source": [
    "#new_df = df[df['column_name'] == 'target_value']\n",
    "ndf = df[df[\"venue_name\"] == \"Safeco Field\"]\n",
    "\n",
    "#ndf.head()\n",
    "#print(ndf)\n",
    "ndf = ndf.drop(['away_final_score','away_team','elapsed_time', 'g_id', 'home_final_score','home_team','umpire_1B','umpire_2B',\n",
    "               'umpire_3B', 'umpire_HP', 'venue_name', 'delay'], axis=1)\n",
    "ndf = ndf.dropna()\n",
    "print(ndf)"
   ]
  },
  {
   "cell_type": "code",
   "execution_count": 57,
   "id": "57973d82-0c8a-4a96-bed6-e41db3e1123c",
   "metadata": {},
   "outputs": [],
   "source": [
    "newcsv = ndf.to_csv(\"cleaned_baseball.csv\", index=False)\n"
   ]
  },
  {
   "cell_type": "code",
   "execution_count": 46,
   "id": "d5d6e656-3fd6-4d66-9202-ce6aac6cba53",
   "metadata": {},
   "outputs": [],
   "source": [
    "import mysql.connector\n",
    "from mysql.connector import Error"
   ]
  },
  {
   "cell_type": "code",
   "execution_count": 47,
   "id": "31237155-a45e-4147-bf42-5be6ec0b8e28",
   "metadata": {},
   "outputs": [],
   "source": [
    "df = pd.read_csv('cleaned_baseball.csv')"
   ]
  },
  {
   "cell_type": "code",
   "execution_count": 55,
   "id": "d4cdfea5-ebdd-494d-b6ea-ba6df08482d3",
   "metadata": {},
   "outputs": [
    {
     "name": "stdout",
     "output_type": "stream",
     "text": [
      "Error:  Authentication plugin 'caching_sha2_password' is not supported\n"
     ]
    }
   ],
   "source": [
    "try:\n",
    "    connection = mysql.connector.connect(\n",
    "        host='localhost',\n",
    "        database='baseball',\n",
    "        user='root',\n",
    "        password='Uva!1819'\n",
    "    )\n",
    "except Error as e:\n",
    "    print(\"Error: \", e)\n",
    "    #root@localhost:3306"
   ]
  },
  {
   "cell_type": "markdown",
   "id": "58c3e971-772a-48b4-932d-e147996cdaff",
   "metadata": {},
   "source": [
    "\n",
    "10/29:\n",
    " different tables: \n",
    " weather and date\n",
    " stadium attendance\n",
    " whether they won or not\n",
    "\n",
    "\n",
    "\n",
    "Hello Matthew,\n",
    "\n",
    "We hope you are well. For the first project, we were curious if the tables we are making are correct.\n",
    "We are using MBL baseball data (.csv file) and a weather API. We cleaned the data to focus on one specific stadium and were thinking of making separate tables for weather/date (using the API) on a particular game day, stadium attendance, and whether the team won or loss. Does this adhere to the project requirements?\n",
    "\n",
    "Thank you,\n",
    "\n",
    "\n",
    "Project 1 Group 8 (Emily, Ashley, and Angela)"
   ]
  }
 ],
 "metadata": {
  "kernelspec": {
   "display_name": "Python 3 (ipykernel)",
   "language": "python",
   "name": "python3"
  },
  "language_info": {
   "codemirror_mode": {
    "name": "ipython",
    "version": 3
   },
   "file_extension": ".py",
   "mimetype": "text/x-python",
   "name": "python",
   "nbconvert_exporter": "python",
   "pygments_lexer": "ipython3",
   "version": "3.8.16"
  }
 },
 "nbformat": 4,
 "nbformat_minor": 5
}
